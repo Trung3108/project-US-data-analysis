{
  "nbformat": 4,
  "nbformat_minor": 0,
  "metadata": {
    "colab": {
      "provenance": []
    },
    "kernelspec": {
      "name": "python3",
      "display_name": "Python 3"
    },
    "language_info": {
      "name": "python"
    }
  },
  "cells": [
    {
      "cell_type": "code",
      "execution_count": null,
      "metadata": {
        "id": "F7hgCCIAX49a"
      },
      "outputs": [],
      "source": []
    },
    {
      "cell_type": "code",
      "source": [
        "from google.colab import drive\n",
        "drive.mount('/content/drive')"
      ],
      "metadata": {
        "colab": {
          "base_uri": "https://localhost:8080/"
        },
        "id": "4saXbwAgYGiI",
        "outputId": "57bb4334-4643-47ad-a03a-ddbc8c0761ed"
      },
      "execution_count": null,
      "outputs": [
        {
          "output_type": "stream",
          "name": "stdout",
          "text": [
            "Mounted at /content/drive\n"
          ]
        }
      ]
    },
    {
      "cell_type": "markdown",
      "source": [
        "# **Set-up and Load Data**"
      ],
      "metadata": {
        "id": "bPhWHIeGYx7x"
      }
    },
    {
      "cell_type": "code",
      "source": [
        "import pandas as pd\n",
        "import numpy as np\n",
        "\n",
        "# Load data from csv\n",
        "df = pd.read_csv('/content/drive/MyDrive/Project 05 03 2025/US_Regional_Sales_Data.csv')\n"
      ],
      "metadata": {
        "id": "c5STIH6iYbAn"
      },
      "execution_count": null,
      "outputs": []
    },
    {
      "cell_type": "markdown",
      "source": [
        "# **1.2. Checking dataset**"
      ],
      "metadata": {
        "id": "aXH688M-Z0Lc"
      }
    },
    {
      "cell_type": "code",
      "source": [
        "# Xem 5 dòng dữ liệu đầu tiên\n",
        "print(df.head())"
      ],
      "metadata": {
        "colab": {
          "base_uri": "https://localhost:8080/"
        },
        "id": "JOdYey3AZE9r",
        "outputId": "cc7eaa1b-3543-4435-bbdb-edeaeb48bc6c"
      },
      "execution_count": null,
      "outputs": [
        {
          "output_type": "stream",
          "name": "stdout",
          "text": [
            "   OrderNumber Sales Channel WarehouseCode ProcuredDate    ShipDate  \\\n",
            "0  SO - 000101      In-Store  WARE-UHY1004   2017-12-31  2018-06-14   \n",
            "1  SO - 000102        Online  WARE-NMK1003   2017-12-31  2018-06-22   \n",
            "2  SO - 000103   Distributor  WARE-UHY1004   2017-12-31  2018-06-21   \n",
            "3  SO - 000104     Wholesale  WARE-NMK1003   2017-12-31  2018-02-06   \n",
            "4  SO - 000105   Distributor  WARE-NMK1003   2018-10-04  2018-06-16   \n",
            "\n",
            "  DeliveryDate  _SalesTeamID  _CustomerID  _StoreID  _ProductID  \\\n",
            "0   2018-06-19             6           15       259          12   \n",
            "1   2018-02-07            14           20       196          27   \n",
            "2   2018-01-07            21           16       213          16   \n",
            "3   2018-07-06            28           48       107          23   \n",
            "4   2018-06-26            22           49       111          26   \n",
            "\n",
            "   Order Quantity  Discount Applied Unit Cost  Unit Price   OrderDate  \\\n",
            "0               5             0.075  1,001.18      1963.1  2018-05-31   \n",
            "1               3             0.075  3,348.66      3939.6  2018-05-31   \n",
            "2               1             0.050    781.22      1775.5  2018-05-31   \n",
            "3               8             0.075  1,464.69      2324.9  2018-05-31   \n",
            "4               8             0.100  1,476.14      1822.4  2018-05-31   \n",
            "\n",
            "      Revenue  Revenue before Discount  Season       State  \n",
            "0   9079.3375                   9815.5  Summer     Arizona  \n",
            "1  10932.3900                  11818.8  Summer  New Jersey  \n",
            "2   1686.7250                   1775.5  Summer   Minnesota  \n",
            "3  17204.2600                  18599.2  Summer      Hawaii  \n",
            "4  13121.2800                  14579.2  Summer    Virginia  \n"
          ]
        }
      ]
    },
    {
      "cell_type": "code",
      "source": [
        "# Xem thông tin của dataframe (số dòng, kiểu dữ liệu, missing values)\n",
        "print(df.info())"
      ],
      "metadata": {
        "colab": {
          "base_uri": "https://localhost:8080/"
        },
        "id": "8sW1ZueTZVKV",
        "outputId": "5ab1dee6-b98a-45bc-a871-b8ee5522fba4"
      },
      "execution_count": null,
      "outputs": [
        {
          "output_type": "stream",
          "name": "stdout",
          "text": [
            "<class 'pandas.core.frame.DataFrame'>\n",
            "RangeIndex: 7991 entries, 0 to 7990\n",
            "Data columns (total 19 columns):\n",
            " #   Column                   Non-Null Count  Dtype  \n",
            "---  ------                   --------------  -----  \n",
            " 0   OrderNumber              7991 non-null   object \n",
            " 1   Sales Channel            7991 non-null   object \n",
            " 2   WarehouseCode            7991 non-null   object \n",
            " 3   ProcuredDate             7991 non-null   object \n",
            " 4   ShipDate                 7991 non-null   object \n",
            " 5   DeliveryDate             7991 non-null   object \n",
            " 6   _SalesTeamID             7991 non-null   int64  \n",
            " 7   _CustomerID              7991 non-null   int64  \n",
            " 8   _StoreID                 7991 non-null   int64  \n",
            " 9   _ProductID               7991 non-null   int64  \n",
            " 10  Order Quantity           7991 non-null   int64  \n",
            " 11  Discount Applied         7991 non-null   float64\n",
            " 12  Unit Cost                7991 non-null   object \n",
            " 13  Unit Price               7991 non-null   float64\n",
            " 14  OrderDate                7991 non-null   object \n",
            " 15  Revenue                  7991 non-null   float64\n",
            " 16  Revenue before Discount  7991 non-null   float64\n",
            " 17  Season                   7991 non-null   object \n",
            " 18  State                    7991 non-null   object \n",
            "dtypes: float64(4), int64(5), object(10)\n",
            "memory usage: 1.2+ MB\n",
            "None\n"
          ]
        }
      ]
    },
    {
      "cell_type": "code",
      "source": [
        "print(df.describe())"
      ],
      "metadata": {
        "colab": {
          "base_uri": "https://localhost:8080/"
        },
        "collapsed": true,
        "id": "wn3CfqUDZZlA",
        "outputId": "80c6b7e7-4a9d-4813-ba14-25a2a6800553"
      },
      "execution_count": null,
      "outputs": [
        {
          "output_type": "stream",
          "name": "stdout",
          "text": [
            "       _SalesTeamID  _CustomerID     _StoreID   _ProductID  Order Quantity  \\\n",
            "count   7991.000000  7991.000000  7991.000000  7991.000000     7991.000000   \n",
            "mean      14.384307    25.457014   183.850081    23.771743        4.525341   \n",
            "std        7.986086    14.414883   105.903946    13.526545        2.312631   \n",
            "min        1.000000     1.000000     1.000000     1.000000        1.000000   \n",
            "25%        8.000000    13.000000    91.000000    12.000000        3.000000   \n",
            "50%       14.000000    25.000000   183.000000    24.000000        5.000000   \n",
            "75%       21.000000    38.000000   276.000000    36.000000        7.000000   \n",
            "max       28.000000    50.000000   367.000000    47.000000        8.000000   \n",
            "\n",
            "       Discount Applied  \n",
            "count       7991.000000  \n",
            "mean           0.114394  \n",
            "std            0.085570  \n",
            "min            0.050000  \n",
            "25%            0.050000  \n",
            "50%            0.075000  \n",
            "75%            0.150000  \n",
            "max            0.400000  \n"
          ]
        }
      ]
    },
    {
      "cell_type": "markdown",
      "source": [
        "# **1.3 Checking Missing Values**"
      ],
      "metadata": {
        "id": "uYpkTwF4Z6JM"
      }
    },
    {
      "cell_type": "code",
      "source": [
        "print(df.isnull().sum())"
      ],
      "metadata": {
        "colab": {
          "base_uri": "https://localhost:8080/"
        },
        "id": "qJJ6DiMwaAvH",
        "outputId": "18ad3d25-60ed-4ac7-c6e6-39fe034f5820"
      },
      "execution_count": null,
      "outputs": [
        {
          "output_type": "stream",
          "name": "stdout",
          "text": [
            "OrderNumber         0\n",
            "Sales Channel       0\n",
            "WarehouseCode       0\n",
            "ProcuredDate        0\n",
            "OrderDate           0\n",
            "ShipDate            0\n",
            "DeliveryDate        0\n",
            "CurrencyCode        0\n",
            "_SalesTeamID        0\n",
            "_CustomerID         0\n",
            "_StoreID            0\n",
            "_ProductID          0\n",
            "Order Quantity      0\n",
            "Discount Applied    0\n",
            "Unit Cost           0\n",
            "Unit Price          0\n",
            "dtype: int64\n"
          ]
        }
      ]
    },
    {
      "cell_type": "code",
      "source": [
        "#fill missing value by mean if occurs"
      ],
      "metadata": {
        "id": "jiw8ewtlaJFP"
      },
      "execution_count": null,
      "outputs": []
    },
    {
      "cell_type": "markdown",
      "source": [
        "# **1.4 Checking Datatype**"
      ],
      "metadata": {
        "id": "VaQa8_rSakSE"
      }
    },
    {
      "cell_type": "code",
      "source": [
        "df['OrderDate'] = pd.to_datetime(df['OrderDate'])"
      ],
      "metadata": {
        "id": "nrruajfza43c"
      },
      "execution_count": null,
      "outputs": []
    },
    {
      "cell_type": "code",
      "source": [
        "df['ProcuredDate'] = pd.to_datetime(df['ProcuredDate'])"
      ],
      "metadata": {
        "id": "aVAgAjAfbXJC"
      },
      "execution_count": null,
      "outputs": []
    },
    {
      "cell_type": "code",
      "source": [
        "df['ShipDate'] = pd.to_datetime(df['ShipDate'])"
      ],
      "metadata": {
        "id": "IxXoV2BAbhrx"
      },
      "execution_count": null,
      "outputs": []
    },
    {
      "cell_type": "code",
      "source": [
        "df['DeliveryDate'] = pd.to_datetime(df['DeliveryDate'])"
      ],
      "metadata": {
        "id": "fdVRCKuCbpgB"
      },
      "execution_count": null,
      "outputs": []
    },
    {
      "cell_type": "code",
      "source": [
        "df['Unit Price'] = df['Unit Price'].str.replace(',', '').astype(float)"
      ],
      "metadata": {
        "id": "oq9W2KgGfOeV"
      },
      "execution_count": null,
      "outputs": []
    },
    {
      "cell_type": "code",
      "source": [
        "print(df.head())"
      ],
      "metadata": {
        "colab": {
          "base_uri": "https://localhost:8080/"
        },
        "id": "NCon_jubbvNc",
        "outputId": "cc00ad6a-10d9-4631-c211-9bb45d8f2f0a"
      },
      "execution_count": null,
      "outputs": [
        {
          "output_type": "stream",
          "name": "stdout",
          "text": [
            "   OrderNumber Sales Channel WarehouseCode ProcuredDate   ShipDate  \\\n",
            "0  SO - 000101      In-Store  WARE-UHY1004   2017-12-31 2018-06-14   \n",
            "1  SO - 000102        Online  WARE-NMK1003   2017-12-31 2018-06-22   \n",
            "2  SO - 000103   Distributor  WARE-UHY1004   2017-12-31 2018-06-21   \n",
            "3  SO - 000104     Wholesale  WARE-NMK1003   2017-12-31 2018-02-06   \n",
            "4  SO - 000105   Distributor  WARE-NMK1003   2018-10-04 2018-06-16   \n",
            "\n",
            "  DeliveryDate CurrencyCode  _SalesTeamID  _CustomerID  _StoreID  _ProductID  \\\n",
            "0   2018-06-19          USD             6           15       259          12   \n",
            "1   2018-02-07          USD            14           20       196          27   \n",
            "2   2018-01-07          USD            21           16       213          16   \n",
            "3   2018-07-06          USD            28           48       107          23   \n",
            "4   2018-06-26          USD            22           49       111          26   \n",
            "\n",
            "   Order Quantity  Discount Applied Unit Cost Unit Price OrderDate   \n",
            "0               5             0.075  1,001.18   1,963.10 2018-05-31  \n",
            "1               3             0.075  3,348.66   3,939.60 2018-05-31  \n",
            "2               1             0.050    781.22   1,775.50 2018-05-31  \n",
            "3               8             0.075  1,464.69   2,324.90 2018-05-31  \n",
            "4               8             0.100  1,476.14   1,822.40 2018-05-31  \n"
          ]
        }
      ]
    },
    {
      "cell_type": "markdown",
      "source": [
        "# 1.6. **Outliers**"
      ],
      "metadata": {
        "id": "3ayTRQ_Sc-DF"
      }
    },
    {
      "cell_type": "code",
      "source": [
        "import matplotlib.pyplot as plt\n",
        "import seaborn as sns\n",
        "\n",
        "sns.boxplot(x=df['Unit Price'])\n",
        "plt.show()"
      ],
      "metadata": {
        "colab": {
          "base_uri": "https://localhost:8080/",
          "height": 449
        },
        "id": "lRK6RbHDdG9z",
        "outputId": "5fe723f3-b092-4959-cb37-1994e0cdd4ff"
      },
      "execution_count": null,
      "outputs": [
        {
          "output_type": "display_data",
          "data": {
            "text/plain": [
              "<Figure size 640x480 with 1 Axes>"
            ],
            "image/png": "[encoded data removed]"
          },
          "metadata": {}
        }
      ]
    },
    {
      "cell_type": "markdown",
      "source": [
        "# **1.7 Feature Engineering (Caculated Column)**"
      ],
      "metadata": {
        "id": "blwnGOXfeRNl"
      }
    },
    {
      "cell_type": "code",
      "source": [
        "df['Revenue'] = df['Order Quantity'] * df['Unit Price'] * (1 - df['Discount Applied'])"
      ],
      "metadata": {
        "id": "y5nJP_TGfWAK"
      },
      "execution_count": null,
      "outputs": []
    },
    {
      "cell_type": "code",
      "source": [
        "df['Revenue before Discount'] = df['Order Quantity'] * df['Unit Price']"
      ],
      "metadata": {
        "id": "c4SQgul9faL7"
      },
      "execution_count": null,
      "outputs": []
    },
    {
      "cell_type": "code",
      "source": [
        "conditions = [\n",
        "    df['OrderDate'].dt.month.isin([1, 2, 3]),\n",
        "    df['OrderDate'].dt.month.isin([4, 5, 6]),\n",
        "    df['OrderDate'].dt.month.isin([7, 8, 9]),\n",
        "    df['OrderDate'].dt.month.isin([10, 11, 12])\n",
        "]\n",
        "\n",
        "choices = ['Spring', 'Summer', 'Fall', 'Winter']\n",
        "\n",
        "df['Season'] = np.select(conditions, choices)"
      ],
      "metadata": {
        "id": "2sNElkD_fkY-"
      },
      "execution_count": null,
      "outputs": []
    },
    {
      "cell_type": "code",
      "source": [
        "print(df.head())"
      ],
      "metadata": {
        "colab": {
          "base_uri": "https://localhost:8080/"
        },
        "id": "KkX5VOJ9endl",
        "outputId": "31785f13-2207-4ff2-f135-c2b226dee920"
      },
      "execution_count": null,
      "outputs": [
        {
          "output_type": "stream",
          "name": "stdout",
          "text": [
            "   OrderNumber Sales Channel WarehouseCode ProcuredDate   ShipDate  \\\n",
            "0  SO - 000101      In-Store  WARE-UHY1004   2017-12-31 2018-06-14   \n",
            "1  SO - 000102        Online  WARE-NMK1003   2017-12-31 2018-06-22   \n",
            "2  SO - 000103   Distributor  WARE-UHY1004   2017-12-31 2018-06-21   \n",
            "3  SO - 000104     Wholesale  WARE-NMK1003   2017-12-31 2018-02-06   \n",
            "4  SO - 000105   Distributor  WARE-NMK1003   2018-10-04 2018-06-16   \n",
            "\n",
            "  DeliveryDate  _SalesTeamID  _CustomerID  _StoreID  _ProductID  \\\n",
            "0   2018-06-19             6           15       259          12   \n",
            "1   2018-02-07            14           20       196          27   \n",
            "2   2018-01-07            21           16       213          16   \n",
            "3   2018-07-06            28           48       107          23   \n",
            "4   2018-06-26            22           49       111          26   \n",
            "\n",
            "   Order Quantity  Discount Applied Unit Cost  Unit Price  OrderDate  \\\n",
            "0               5             0.075  1,001.18      1963.1 2018-05-31   \n",
            "1               3             0.075  3,348.66      3939.6 2018-05-31   \n",
            "2               1             0.050    781.22      1775.5 2018-05-31   \n",
            "3               8             0.075  1,464.69      2324.9 2018-05-31   \n",
            "4               8             0.100  1,476.14      1822.4 2018-05-31   \n",
            "\n",
            "      Revenue  Revenue before Discount  Season  \n",
            "0   9079.3375                   9815.5  Summer  \n",
            "1  10932.3900                  11818.8  Summer  \n",
            "2   1686.7250                   1775.5  Summer  \n",
            "3  17204.2600                  18599.2  Summer  \n",
            "4  13121.2800                  14579.2  Summer  \n"
          ]
        }
      ]
    },
    {
      "cell_type": "markdown",
      "source": [
        "# **1.8 Drop Unnessary Column**"
      ],
      "metadata": {
        "id": "qX09EB6rhB75"
      }
    },
    {
      "cell_type": "code",
      "source": [
        "df = df.drop(columns=['CurrencyCode'])"
      ],
      "metadata": {
        "id": "ukAo1gTehUGv"
      },
      "execution_count": null,
      "outputs": []
    },
    {
      "cell_type": "code",
      "source": [
        "print(df.head())"
      ],
      "metadata": {
        "colab": {
          "base_uri": "https://localhost:8080/"
        },
        "id": "RpdM_T2rhhaE",
        "outputId": "724dae95-1474-4613-fb24-e12bf4155d13"
      },
      "execution_count": null,
      "outputs": [
        {
          "output_type": "stream",
          "name": "stdout",
          "text": [
            "   OrderNumber Sales Channel WarehouseCode ProcuredDate   ShipDate  \\\n",
            "0  SO - 000101      In-Store  WARE-UHY1004   2017-12-31 2018-06-14   \n",
            "1  SO - 000102        Online  WARE-NMK1003   2017-12-31 2018-06-22   \n",
            "2  SO - 000103   Distributor  WARE-UHY1004   2017-12-31 2018-06-21   \n",
            "3  SO - 000104     Wholesale  WARE-NMK1003   2017-12-31 2018-02-06   \n",
            "4  SO - 000105   Distributor  WARE-NMK1003   2018-10-04 2018-06-16   \n",
            "\n",
            "  DeliveryDate  _SalesTeamID  _CustomerID  _StoreID  _ProductID  \\\n",
            "0   2018-06-19             6           15       259          12   \n",
            "1   2018-02-07            14           20       196          27   \n",
            "2   2018-01-07            21           16       213          16   \n",
            "3   2018-07-06            28           48       107          23   \n",
            "4   2018-06-26            22           49       111          26   \n",
            "\n",
            "   Order Quantity  Discount Applied Unit Cost  Unit Price  OrderDate  \\\n",
            "0               5             0.075  1,001.18      1963.1 2018-05-31   \n",
            "1               3             0.075  3,348.66      3939.6 2018-05-31   \n",
            "2               1             0.050    781.22      1775.5 2018-05-31   \n",
            "3               8             0.075  1,464.69      2324.9 2018-05-31   \n",
            "4               8             0.100  1,476.14      1822.4 2018-05-31   \n",
            "\n",
            "      Revenue  Revenue before Discount  Season       State  \n",
            "0   9079.3375                   9815.5  Summer    Nebraska  \n",
            "1  10932.3900                  11818.8  Summer    Colorado  \n",
            "2   1686.7250                   1775.5  Summer  New Jersey  \n",
            "3  17204.2600                  18599.2  Summer    Michigan  \n",
            "4  13121.2800                  14579.2  Summer        Utah  \n"
          ]
        }
      ]
    },
    {
      "cell_type": "code",
      "source": [
        "df.to_csv('/content/drive/MyDrive/Project 05 03 2025/US_Regional_Sales_Data.csv', index=False)"
      ],
      "metadata": {
        "id": "WiRTvWidhjoj"
      },
      "execution_count": null,
      "outputs": []
    },
    {
      "cell_type": "code",
      "source": [
        "us_states = [\n",
        "    'Alabama', 'Alaska', 'Arizona', 'Arkansas', 'California', 'Colorado',\n",
        "    'Connecticut', 'Delaware', 'Florida', 'Georgia', 'Hawaii', 'Idaho',\n",
        "    'Illinois', 'Indiana', 'Iowa', 'Kansas', 'Kentucky', 'Louisiana',\n",
        "    'Maine', 'Maryland', 'Massachusetts', 'Michigan', 'Minnesota',\n",
        "    'Mississippi', 'Missouri', 'Montana', 'Nebraska', 'Nevada', 'New Hampshire',\n",
        "    'New Jersey', 'New Mexico', 'New York', 'North Carolina', 'North Dakota',\n",
        "    'Ohio', 'Oklahoma', 'Oregon', 'Pennsylvania', 'Rhode Island', 'South Carolina',\n",
        "    'South Dakota', 'Tennessee', 'Texas', 'Utah', 'Vermont', 'Virginia',\n",
        "    'Washington', 'West Virginia', 'Wisconsin', 'Wyoming'\n",
        "]\n",
        "\n",
        "# Định nghĩa trọng số cho từng bang\n",
        "state_weights = {\n",
        "    'Alabama': 2, 'Alaska': 1, 'Arizona': 3, 'Arkansas': 2, 'California': 10,\n",
        "    'Colorado': 3, 'Connecticut': 3, 'Delaware': 1, 'Florida': 8, 'Georgia': 5,\n",
        "    'Hawaii': 1, 'Idaho': 1, 'Illinois': 7, 'Indiana': 3, 'Iowa': 2,\n",
        "    'Kansas': 2, 'Kentucky': 2, 'Louisiana': 3, 'Maine': 1, 'Maryland': 4,\n",
        "    'Massachusetts': 4, 'Michigan': 5, 'Minnesota': 3, 'Mississippi': 2,\n",
        "    'Missouri': 3, 'Montana': 1, 'Nebraska': 1, 'Nevada': 3, 'New Hampshire': 1,\n",
        "    'New Jersey': 5, 'New Mexico': 1, 'New York': 10, 'North Carolina': 5, 'North Dakota': 1,\n",
        "    'Ohio': 6, 'Oklahoma': 3, 'Oregon': 3, 'Pennsylvania': 7, 'Rhode Island': 1,\n",
        "    'South Carolina': 3, 'South Dakota': 1, 'Tennessee': 4, 'Texas': 9,\n",
        "    'Utah': 2, 'Vermont': 1, 'Virginia': 5, 'Washington': 5, 'West Virginia': 1,\n",
        "    'Wisconsin': 3, 'Wyoming': 1\n",
        "}\n",
        "\n",
        "# Tạo list trọng số tương ứng với danh sách các bang\n",
        "weights = [state_weights[state] for state in us_states]\n",
        "\n",
        "# Tính xác suất cho từng bang (chuẩn hóa)\n",
        "probabilities = np.array(weights) / np.sum(weights)\n",
        "\n",
        "# Giả sử bạn đã có DataFrame df, ta thêm cột 'State' với giá trị ngẫu nhiên theo xác suất\n",
        "df['State'] = np.random.choice(us_states, size=len(df), p=probabilities)\n",
        "\n",
        "# Kiểm tra kết quả\n",
        "print(df[['State']].head())"
      ],
      "metadata": {
        "colab": {
          "base_uri": "https://localhost:8080/"
        },
        "id": "x7E1GomDpvKI",
        "outputId": "8cc3acfb-5e43-43c2-b497-728a2c0e6219"
      },
      "execution_count": null,
      "outputs": [
        {
          "output_type": "stream",
          "name": "stdout",
          "text": [
            "        State\n",
            "0     Arizona\n",
            "1  New Jersey\n",
            "2   Minnesota\n",
            "3      Hawaii\n",
            "4    Virginia\n"
          ]
        }
      ]
    },
    {
      "cell_type": "code",
      "source": [
        "pip install Faker\n"
      ],
      "metadata": {
        "colab": {
          "base_uri": "https://localhost:8080/"
        },
        "collapsed": true,
        "id": "vGDfoTZGfcK-",
        "outputId": "8b511113-c0ee-4d73-9ba5-02968e6c8b41"
      },
      "execution_count": null,
      "outputs": [
        {
          "output_type": "stream",
          "name": "stdout",
          "text": [
            "Collecting Faker\n",
            "  Downloading faker-36.2.2-py3-none-any.whl.metadata (15 kB)\n",
            "Requirement already satisfied: tzdata in /usr/local/lib/python3.11/dist-packages (from Faker) (2025.1)\n",
            "Downloading faker-36.2.2-py3-none-any.whl (1.9 MB)\n",
            "\u001b[?25l   \u001b[90m━━━━━━━━━━━━━━━━━━━━━━━━━━━━━━━━━━━━━━━━\u001b[0m \u001b[32m0.0/1.9 MB\u001b[0m \u001b[31m?\u001b[0m eta \u001b[36m-:--:--\u001b[0m\r\u001b[2K   \u001b[91m━━━━━━━━━━━━━━━━━━━━━━━━━━━━━━━━━━━━━\u001b[0m\u001b[91m╸\u001b[0m\u001b[90m━━\u001b[0m \u001b[32m1.8/1.9 MB\u001b[0m \u001b[31m54.0 MB/s\u001b[0m eta \u001b[36m0:00:01\u001b[0m\r\u001b[2K   \u001b[90m━━━━━━━━━━━━━━━━━━━━━━━━━━━━━━━━━━━━━━━━\u001b[0m \u001b[32m1.9/1.9 MB\u001b[0m \u001b[31m33.8 MB/s\u001b[0m eta \u001b[36m0:00:00\u001b[0m\n",
            "\u001b[?25hInstalling collected packages: Faker\n",
            "Successfully installed Faker-36.2.2\n"
          ]
        }
      ]
    },
    {
      "cell_type": "code",
      "source": [
        "customer_ids = df['_CustomerID'].unique()\n",
        "\n",
        "# Tạo DataFrame với _CustomerID\n",
        "df_customer = pd.DataFrame({'_CustomerID': customer_ids})\n",
        "\n",
        "# Tạo cột giả lập Name (ví dụ: \"Customer <id>\")\n",
        "df_customer['Name'] = df_customer['_CustomerID'].apply(lambda x: f\"Customer {x}\")\n",
        "\n",
        "# Tạo cột Sex (random \"Male\" hoặc \"Female\")\n",
        "np.random.seed(42)\n",
        "df_customer['Sex'] = np.random.choice(['Male', 'Female'], size=len(df_customer))\n",
        "\n",
        "# Tạo cột Age (ví dụ: từ 18 đến 70)\n",
        "df_customer['Age'] = np.random.randint(18, 71, size=len(df_customer))\n",
        "\n",
        "# Tạo cột Salary (ví dụ: ngẫu nhiên từ 30,000 đến 120,000 USD)\n",
        "df_customer['Salary'] = np.random.randint(30000, 120001, size=len(df_customer))\n",
        "from faker import Faker\n",
        "fake = Faker()\n",
        "\n",
        "# Giả sử df_customer là DataFrame chứa _CustomerID, bạn tạo cột Name ngẫu nhiên:\n",
        "df_customer['Name'] = [fake.name() for _ in range(len(df_customer))]\n",
        "\n",
        "# Kiểm tra kết quả\n",
        "print(\"Customer DataFrame:\")\n",
        "print(df_customer.head())\n",
        "\n",
        "df_customer.to_csv('Customer.csv', index=False)\n",
        "\n",
        "# Tải file CSV xuống máy (trong môi trường Google Colab)\n",
        "from google.colab import files\n",
        "files.download('Customer.csv')\n"
      ],
      "metadata": {
        "colab": {
          "base_uri": "https://localhost:8080/",
          "height": 139
        },
        "id": "EyjNWV9Yei3O",
        "outputId": "521428d0-e1a9-4681-d777-c1fe28e05add"
      },
      "execution_count": null,
      "outputs": [
        {
          "output_type": "stream",
          "name": "stdout",
          "text": [
            "Customer DataFrame:\n",
            "   _CustomerID              Name     Sex  Age  Salary\n",
            "0           15         Lisa Yang    Male   64   70397\n",
            "1           20      Cynthia Ross  Female   68   31016\n",
            "2           16    Charles Castro    Male   61  119789\n",
            "3           48  Thomas Carpenter    Male   69   85591\n",
            "4           49      Donald Smith    Male   20  119812\n"
          ]
        },
        {
          "output_type": "display_data",
          "data": {
            "text/plain": [
              "<IPython.core.display.Javascript object>"
            ],
            "application/javascript": [
              "\n",
              "    async function download(id, filename, size) {\n",
              "      if (!google.colab.kernel.accessAllowed) {\n",
              "        return;\n",
              "      }\n",
              "      const div = document.createElement('div');\n",
              "      const label = document.createElement('label');\n",
              "      label.textContent = `Downloading \"${filename}\": `;\n",
              "      div.appendChild(label);\n",
              "      const progress = document.createElement('progress');\n",
              "      progress.max = size;\n",
              "      div.appendChild(progress);\n",
              "      document.body.appendChild(div);\n",
              "\n",
              "      const buffers = [];\n",
              "      let downloaded = 0;\n",
              "\n",
              "      const channel = await google.colab.kernel.comms.open(id);\n",
              "      // Send a message to notify the kernel that we're ready.\n",
              "      channel.send({})\n",
              "\n",
              "      for await (const message of channel.messages) {\n",
              "        // Send a message to notify the kernel that we're ready.\n",
              "        channel.send({})\n",
              "        if (message.buffers) {\n",
              "          for (const buffer of message.buffers) {\n",
              "            buffers.push(buffer);\n",
              "            downloaded += buffer.byteLength;\n",
              "            progress.value = downloaded;\n",
              "          }\n",
              "        }\n",
              "      }\n",
              "      const blob = new Blob(buffers, {type: 'application/binary'});\n",
              "      const a = document.createElement('a');\n",
              "      a.href = window.URL.createObjectURL(blob);\n",
              "      a.download = filename;\n",
              "      div.appendChild(a);\n",
              "      a.click();\n",
              "      div.remove();\n",
              "    }\n",
              "  "
            ]
          },
          "metadata": {}
        },
        {
          "output_type": "display_data",
          "data": {
            "text/plain": [
              "<IPython.core.display.Javascript object>"
            ],
            "application/javascript": [
              "download(\"download_44999a64-b8bc-4638-b07b-ddb8485db231\", \"Customer.csv\", 1647)"
            ]
          },
          "metadata": {}
        }
      ]
    }
  ]
}